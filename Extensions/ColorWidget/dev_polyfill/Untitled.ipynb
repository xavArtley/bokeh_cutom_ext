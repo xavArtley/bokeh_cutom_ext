{
 "cells": [
  {
   "cell_type": "code",
   "execution_count": 1,
   "metadata": {},
   "outputs": [
    {
     "name": "stdout",
     "output_type": "stream",
     "text": [
      "a{border-width:6px;}\n"
     ]
    }
   ],
   "source": [
    "import lesscpy\n",
    "from six import StringIO\n",
    "\n",
    "print(lesscpy.compile(StringIO(u\"a { border-width: 2px * 3; }\"), minify=True))"
   ]
  },
  {
   "cell_type": "code",
   "execution_count": 2,
   "metadata": {},
   "outputs": [
    {
     "data": {
      "text/plain": [
       "<_io.StringIO at 0x1c209452e58>"
      ]
     },
     "execution_count": 2,
     "metadata": {},
     "output_type": "execute_result"
    }
   ],
   "source": [
    "StringIO(u\"a { border-width: 2px * 3; }\")"
   ]
  },
  {
   "cell_type": "code",
   "execution_count": 3,
   "metadata": {},
   "outputs": [
    {
     "data": {
      "text/plain": [
       "'.hue-arr-glyph {\\n position: absolute;\\n width: 0;\\n height: 0;\\n border-top: 6px solid transparent;\\n border-bottom: 6px solid transparent;\\n}\\n.bk-color-wg {\\n position: absolute;\\n box-sizing: content-box;\\n width: 200px;\\n height: 165px;\\n overflow: visible;\\n display: block;\\n font-family: Arial, Helvetica, sans-serif;\\n direction: ltr;\\n background: #ebebeb;\\n border: 1px solid #bbbbbb;\\n -webkit-border-radius: 5px;\\n -moz-border-radius: 5px;\\n border-radius: 5px;\\n -webkit-user-select: none;\\n -moz-user-select: none;\\n -ms-user-select: none;\\n -o-user-select: none;\\n user-select: none;\\n}\\n.bk-color-wg .bk-color-wg-gradient {\\n position: absolute;\\n left: 8px;\\n top: 8px;\\n width: 150px;\\n height: 150px;\\n overflow: visible;\\n outline: 1px solid #aaaaaa;\\n cursor: crosshair;\\n}\\n.bk-color-wg .bk-color-wg-gradient-overlay-lr {\\n position: absolute;\\n width: 150px;\\n height: 150px;\\n -ms-filter: \"progid:DXImageTransform.Microsoft.gradient(GradientType=1,startColorstr=\\'#ffffff\\', endColorstr=\\'#00ffffff\\')\";\\n background: -moz-linear-gradient(left,#ffffff01 0%,rgba(ff,ff,ff,0) 100%);\\n background: -webkit-gradient(linear,left top,right top,color-stop(0%,#ffffff01 ),color-stop(100%,rgba(ff,ff,ff,0) ));\\n background: -webkit-linear-gradient(left,#ffffff01 0%,rgba(ff,ff,ff,0) 100%);\\n background: -o-linear-gradient(left,#ffffff01 0%,rgba(ff,ff,ff,0) 100%);\\n background: -ms-linear-gradient(left,#ffffff01 0%,rgba(ff,ff,ff,0) 100%);\\n background: linear-gradient(to right,#ffffff01 0%,rgba(ff,ff,ff,0) 100%);\\n filter: progid:DXImageTransform.Microsoft.gradient(GradientType=1,startColorstr=\\'#ffffff\\',endColorstr=\\'#00ffffff\\');\\n}\\n.bk-color-wg .bk-color-wg-gradient-overlay-tb {\\n position: absolute;\\n width: 150px;\\n height: 150px;\\n -ms-filter: \"progid:DXImageTransform.Microsoft.gradient(GradientType=0,startColorstr=\\'#00000000\\', endColorstr=\\'#000000\\')\";\\n background: -moz-linear-gradient(top,rgba(0,0,0,0) 0%,#00000001 100%);\\n background: -webkit-gradient(linear,left top,left bottom,color-stop(0%,rgba(0,0,0,0) ),color-stop(100%,#00000001 ));\\n background: -webkit-linear-gradient(top,rgba(0,0,0,0) 0%,#00000001 100%);\\n background: -o-linear-gradient(top,rgba(0,0,0,0) 0%,#00000001 100%);\\n background: -ms-linear-gradient(top,rgba(0,0,0,0) 0%,#00000001 100%);\\n background: linear-gradient(to bottom,rgba(0,0,0,0) 0%,#00000001 100%);\\n filter: progid:DXImageTransform.Microsoft.gradient(startColorstr=\\'#00000000\\',endColorstr=\\'#000000\\',GradientType=0 );\\n}\\n.bk-color-wg .bk-color-wg-selector-outer {\\n background: none;\\n position: absolute;\\n width: 11px;\\n height: 11px;\\n margin: -6px 0 0 -6px;\\n border: 1px solid black;\\n border-radius: 50%;\\n}\\n.bk-color-wg .bk-color-wg-selector-inner {\\n position: absolute;\\n width: 9px;\\n height: 9px;\\n border: 1px solid white;\\n border-radius: 50%;\\n}\\n.bk-color-wg .bk-color-wg-hue {\\n position: absolute;\\n top: 7px;\\n left: 168px;\\n width: 20px;\\n height: 150px;\\n border: 1px solid #aaaaaa;\\n cursor: n-resize;\\n}\\n.bk-color-wg .bk-color-wg-hue-arrs {\\n position: absolute;\\n left: -8px;\\n width: 36px;\\n height: 7px;\\n top: -7px;\\n}\\n.bk-color-wg .bk-color-wg-hue-larr {\\n position: absolute;\\n width: 0;\\n height: 0;\\n border-top: 6px solid transparent;\\n border-bottom: 6px solid transparent;\\n border-left: 7px solid #858585;\\n}\\n.bk-color-wg .bk-color-wg-hue-rarr {\\n position: absolute;\\n width: 0;\\n height: 0;\\n border-top: 6px solid transparent;\\n border-bottom: 6px solid transparent;\\n border-right: 7px solid #858585;\\n right: 0;\\n}'"
      ]
     },
     "execution_count": 3,
     "metadata": {},
     "output_type": "execute_result"
    }
   ],
   "source": []
  },
  {
   "cell_type": "code",
   "execution_count": null,
   "metadata": {},
   "outputs": [],
   "source": []
  }
 ],
 "metadata": {
  "kernelspec": {
   "display_name": "Python 3",
   "language": "python",
   "name": "python3"
  },
  "language_info": {
   "codemirror_mode": {
    "name": "ipython",
    "version": 3
   },
   "file_extension": ".py",
   "mimetype": "text/x-python",
   "name": "python",
   "nbconvert_exporter": "python",
   "pygments_lexer": "ipython3",
   "version": "3.6.6"
  }
 },
 "nbformat": 4,
 "nbformat_minor": 2
}
